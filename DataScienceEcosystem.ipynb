{
 "cells": [
  {
   "cell_type": "markdown",
   "id": "a3bed120-87a5-4a3f-a009-2f433f416e8c",
   "metadata": {},
   "source": [
    "Exercise 1: Create a Jupyter Notebook"
   ]
  },
  {
   "cell_type": "markdown",
   "id": "2d1a56dd-c97d-4131-9118-9f7a47dc9bec",
   "metadata": {},
   "source": [
    "Exercise 2: Create markdown cell with title of the notebook"
   ]
  },
  {
   "cell_type": "markdown",
   "id": "bbacab94-cd7a-405a-ad01-35fa5a52884d",
   "metadata": {},
   "source": [
    "# Data Science Tools and Ecosystem"
   ]
  },
  {
   "cell_type": "markdown",
   "id": "3025bf05-0d34-468b-8be6-79edb09bfb0f",
   "metadata": {},
   "source": [
    "Exercise 3 - Create a markdown cell for an introduction"
   ]
  },
  {
   "cell_type": "markdown",
   "id": "2406a78c-139e-4093-82ec-3d7bbafad443",
   "metadata": {},
   "source": [
    "In this notebook, Data Science Tools and Ecosystem are summarized. First of all we will review some data science languages, tools, libraries, and arithmetic exercises."
   ]
  },
  {
   "cell_type": "markdown",
   "id": "01944312-93a2-4c41-8173-ee4aef11cd52",
   "metadata": {},
   "source": [
    "Exercise 4 - Create a markdown cell to list data science languages"
   ]
  },
  {
   "cell_type": "markdown",
   "id": "e25e4903-b57f-41b1-b325-3c9a20750133",
   "metadata": {},
   "source": [
    "## Some of the popular languages that Data Scientists use are:\n",
    "\n",
    "1. Python\n",
    "2. R\n",
    "3. SQL\n",
    "4. Julia\n",
    "5. Java"
   ]
  },
  {
   "cell_type": "markdown",
   "id": "feb7a176-27c7-48ff-82dd-9ff5d267a347",
   "metadata": {},
   "source": [
    "Exercise 5 - Create a markdown cell to list data science libraries"
   ]
  },
  {
   "cell_type": "markdown",
   "id": "e7ed855e-32cb-463e-9379-c1a1ff0f174f",
   "metadata": {},
   "source": [
    "# Some of the commonly used libraries used by Data Scientists include:\n",
    "\n",
    "1. Pandas\n",
    "2. NumPy\n",
    "3. Matplotlib\n",
    "4. Scikit-learn\n",
    "5. TensorFlow"
   ]
  },
  {
   "cell_type": "markdown",
   "id": "a66365bc-fb70-4be4-b527-a8fc6cea4d6f",
   "metadata": {},
   "source": [
    "Exercise 6 - Create a markdown cell with a table of Data Science tools"
   ]
  },
  {
   "cell_type": "markdown",
   "id": "2d89704e-704b-49c0-96a7-3ac87d447ad1",
   "metadata": {},
   "source": [
    "# Data Science Tools\n",
    "\n",
    "|Data Science Tools|\n",
    "|------------------|\n",
    "|Jupyter Notebook|\n",
    "|RStudio|\n",
    "|Apache Zeppelin|"
   ]
  },
  {
   "cell_type": "markdown",
   "id": "47af2351-2497-4857-a74e-0e6758a9fd01",
   "metadata": {},
   "source": [
    "Exercise 7 - Create a markdown cell introducing arithmetic expression examples"
   ]
  },
  {
   "cell_type": "markdown",
   "id": "a2ae4b17-79f6-4f89-8176-e3bf96def5c4",
   "metadata": {},
   "source": [
    "### Below are a few examples of evaluating arithmetic expressions in Python"
   ]
  },
  {
   "cell_type": "markdown",
   "id": "a862197d-0ef5-43d6-8299-8dbe3bcc19ca",
   "metadata": {},
   "source": [
    "Exercise 8 - Create a code cell to multiply and add numbers"
   ]
  },
  {
   "cell_type": "code",
   "execution_count": 24,
   "id": "c91a97ee-ce01-442c-ab77-24b1d6ecd0f5",
   "metadata": {},
   "outputs": [
    {
     "data": {
      "text/plain": [
       "17"
      ]
     },
     "execution_count": 24,
     "metadata": {},
     "output_type": "execute_result"
    }
   ],
   "source": [
    "(3*4)+5\n",
    "\n",
    "#This a simple arithmetic expression to mutiply then add integers"
   ]
  },
  {
   "cell_type": "markdown",
   "id": "12b18350-a50a-4d0c-a1eb-f4ef0417ede7",
   "metadata": {},
   "source": [
    "Exercise 9 - Create a code cell to convert minutes to hours"
   ]
  },
  {
   "cell_type": "code",
   "execution_count": 27,
   "id": "876dbf70-1fa9-4f97-b168-d4a1af874f79",
   "metadata": {},
   "outputs": [
    {
     "data": {
      "text/plain": [
       "3.3333333333333335"
      ]
     },
     "execution_count": 27,
     "metadata": {},
     "output_type": "execute_result"
    }
   ],
   "source": [
    "200/60\n",
    "\n",
    "#This will convert 200 minutos to hours by diving by 60"
   ]
  },
  {
   "cell_type": "markdown",
   "id": "fc6d9f19-f0e7-44e5-92f9-5210d3dc7da7",
   "metadata": {},
   "source": [
    "Exercise 10 - Insert a markdown cell to list Objectives"
   ]
  },
  {
   "cell_type": "markdown",
   "id": "0e37692f-4802-494c-a0b2-95b26db0c308",
   "metadata": {},
   "source": [
    "## Objectives: ## \n",
    "\n",
    "- List popular languages for Data Science\n",
    "- Identify commonly used Data Science libraries\n",
    "- Explore different open-source Data Science tools\n",
    "- Perform basic arithmetic operations in Python\n",
    "- Understand the process of converting units in Python (e.g., minutes to hours)"
   ]
  },
  {
   "cell_type": "markdown",
   "id": "b4ae2397-afed-4d84-a7a0-68f129618d37",
   "metadata": {},
   "source": [
    "Exercise 11 - Create a markdown cell to indicate the Author's name"
   ]
  },
  {
   "cell_type": "markdown",
   "id": "d0c859f1-5572-4748-8b55-4ae0e95d5223",
   "metadata": {},
   "source": [
    "## Author \n",
    "Camilo Suazo Meléndez"
   ]
  },
  {
   "cell_type": "code",
   "execution_count": null,
   "id": "c6d1769b-81dc-4929-8b71-17d5a24898a1",
   "metadata": {},
   "outputs": [],
   "source": []
  }
 ],
 "metadata": {
  "kernelspec": {
   "display_name": "Python 3 (ipykernel)",
   "language": "python",
   "name": "python3"
  },
  "language_info": {
   "codemirror_mode": {
    "name": "ipython",
    "version": 3
   },
   "file_extension": ".py",
   "mimetype": "text/x-python",
   "name": "python",
   "nbconvert_exporter": "python",
   "pygments_lexer": "ipython3",
   "version": "3.11.7"
  }
 },
 "nbformat": 4,
 "nbformat_minor": 5
}
